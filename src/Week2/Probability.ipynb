{
 "cells": [
  {
   "cell_type": "markdown",
   "id": "c87203b2-6a1d-4fd1-8a6a-5cd0750d91fd",
   "metadata": {},
   "source": [
    "# Probability"
   ]
  },
  {
   "cell_type": "markdown",
   "id": "0ca6b3d6-02d8-47d7-991a-2108903b6393",
   "metadata": {},
   "source": [
    "### Four Basic rules"
   ]
  },
  {
   "cell_type": "markdown",
   "id": "1020e4ad-df2d-42a0-908b-e5b328740e55",
   "metadata": {},
   "source": [
    "Probability of event A occuring is give by P(A) then, \n",
    "probability of event A not occuring is given by P(~A) = 1-P(A)"
   ]
  },
  {
   "cell_type": "code",
   "execution_count": null,
   "id": "55e1c896-40e4-4df4-9d19-2dbfad8a57c4",
   "metadata": {},
   "outputs": [],
   "source": []
  }
 ],
 "metadata": {
  "kernelspec": {
   "display_name": "Python 3 (ipykernel)",
   "language": "python",
   "name": "python3"
  },
  "language_info": {
   "codemirror_mode": {
    "name": "ipython",
    "version": 3
   },
   "file_extension": ".py",
   "mimetype": "text/x-python",
   "name": "python",
   "nbconvert_exporter": "python",
   "pygments_lexer": "ipython3",
   "version": "3.9.7"
  }
 },
 "nbformat": 4,
 "nbformat_minor": 5
}
